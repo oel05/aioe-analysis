{
 "cells": [
  {
   "cell_type": "markdown",
   "metadata": {},
   "source": "# AIOE (AI Occupational Exposure) 데이터 전처리\n\n이 노트북은 ChatGPT와 같은 언어 모델이 직업에 미치는 영향을 측정하기 위해 AIOE(AI Occupational Exposure) 점수를 계산합니다.\n\n---\n\n## 📚 AIOE란 무엇인가?\n\n**AIOE(AI Occupational Exposure)**는 특정 직업이 AI 기술에 의해 얼마나 영향을 받을 수 있는지를 정량화한 지표입니다.\n\n### 핵심 아이디어\n직업 i가 요구하는 능력들 중에서, **AI가 잘 수행할 수 있는 능력**에 가중치를 부여해 합산한 값입니다.\n\n### AIOE 계산 공식\n\n$$\n\\text{AIOE}_k = \\frac{\\sum_{j=1}^{52} A_{ij} \\times L_{jk} \\times I_{jk}}{\\sum_{j=1}^{52} L_{jk} \\times I_{jk}}\n$$\n\n**수식의 의미:**\n- **분자**: 직업 i가 요구하는 능력들 중 AI가 잘 수행할 수 있는 능력에 가중치를 부여해 합산\n- **분모**: AI가 잘 수행할 수 있는 능력들의 총합 (정규화)\n- **결과**: 0~5 사이의 점수 (높을수록 AI의 영향을 많이 받음)\n\n### 수식의 구성 요소\n\n| 기호 | 이름 | 의미 | 데이터 출처 |\n|------|------|------|-------------|\n| **A<sub>ij</sub>** | 능력 중요도 행렬 (R) | 직업 i가 능력 j를 얼마나 필요로 하는가 (1~5점) | O\\*NET Abilities |\n| **L<sub>jk</sub>** | 능력-AI 매핑 행렬 | 능력 j가 AI 기술 k와 얼마나 연관되는가 (0~1) | 논문 Appendix D |\n| **I<sub>jk</sub>** | AI 성능 벡터 | AI 기술 k가 능력 j를 얼마나 잘 수행하는가 (0~1) | 논문 Appendix E |\n| **i** | 직업 인덱스 | 약 1,000개의 O\\*NET 직업 | - |\n| **j** | 능력 인덱스 | 52개의 인간 능력 (언어이해, 수리능력 등) | - |\n| **k** | AI 기술 인덱스 | Language Modeling, Image Recognition 등 | - |\n\n### 실제 예시\n\n**의사(Physician)** 직업의 AIOE를 계산한다면:\n1. **A<sub>ij</sub>**: 의사가 \"언어 이해력\"에 4.5점, \"신체 균형\"에 2.0점 필요\n2. **L<sub>jk</sub>**: \"언어 이해력\"은 Language Modeling과 0.9 연관, \"신체 균형\"은 0.0 연관\n3. **I<sub>jk</sub>**: GPT는 \"언어 이해력\"에서 0.8 성능, \"신체 균형\"에서 0.0 성능\n4. **결과**: 언어 능력이 높은 가중치를 받아 AIOE 점수가 높아짐\n\n---\n\n## 📊 데이터셋\n\n| 파일명 | 설명 | 역할 |\n|--------|------|------|\n| **Abilities.txt** | O\\*NET 직업별 능력 중요도 데이터 | **A<sub>ij</sub>** (R 행렬) 생성 |\n| **AIOE_DataAppendixD.csv** | 능력-AI 기술 매핑표 | **L<sub>jk</sub>** (L 행렬) |\n| **AIOE_DataAppendixE.csv** | AI 성능 데이터 | **I<sub>jk</sub>** (I 벡터) |\n| **Occupation Data.txt** | SOC 코드와 직업 이름/설명 | 직업 정보 매핑 |\n| **all_data_M_2024.xlsx** | OEWS 임금 및 고용 데이터 (BLS) | 임금/고용 통계 |\n\n---\n\n## 📖 참고 논문\nFelten, E., Raj, M., & Seamans, R. (2023). *How will Language Modelers like ChatGPT Affect Occupations and Industries?*"
  },
  {
   "cell_type": "markdown",
   "metadata": {},
   "source": [
    "## 1. 라이브러리 및 설정"
   ]
  },
  {
   "cell_type": "code",
   "execution_count": null,
   "metadata": {},
   "outputs": [],
   "source": "import pandas as pd\nimport numpy as np\nimport matplotlib.pyplot as plt\nimport seaborn as sns\nimport koreanize_matplotlib\n\n# 출력 옵션 설정\npd.set_option('display.max_columns', None)\npd.set_option('display.max_rows', 100)\npd.set_option('display.width', 1000)\n\nprint(\"✅ 라이브러리 로딩 완료\")"
  },
  {
   "cell_type": "markdown",
   "metadata": {},
   "source": [
    "## 2. 데이터 로딩"
   ]
  },
  {
   "cell_type": "code",
   "execution_count": null,
   "metadata": {},
   "outputs": [],
   "source": [
    "# 데이터 파일 로딩\n",
    "abilities_df = pd.read_csv(\"../datas/raw/Abilities.txt\", sep=\"\\t\")\n",
    "occupations_df = pd.read_csv(\"../datas/raw/Occupation Data.txt\", sep=\"\\t\")\n",
    "ability_ai_mapping_df = pd.read_csv(\"../datas/raw/AIOE_DataAppendixD.csv\")\n",
    "ai_performance_df = pd.read_csv(\"../datas/raw/AIOE_DataAppendixE.csv\")\n",
    "oews_df = pd.read_excel(\"../datas/raw/all_data_M_2024.xlsx\")\n",
    "\n",
    "print(\"✅ 데이터 로딩 완료\")\n",
    "print(f\"- Abilities: {len(abilities_df):,} rows\")\n",
    "print(f\"- Occupations: {len(occupations_df):,} rows\")\n",
    "print(f\"- Ability-AI Mapping: {len(ability_ai_mapping_df):,} rows\")\n",
    "print(f\"- AI Performance: {len(ai_performance_df):,} rows\")\n",
    "print(f\"- OEWS: {len(oews_df):,} rows\")"
   ]
  },
  {
   "cell_type": "markdown",
   "metadata": {},
   "source": "## 3. 데이터 탐색\n\n### 📋 O*NET 데이터베이스란?\n\n**O*NET (Occupational Information Network)**은 미국 노동부에서 운영하는 직업 정보 데이터베이스입니다.\n\n**주요 특징:**\n- 약 1,000개 이상의 직업에 대한 상세 정보 제공\n- 각 직업에 필요한 **능력(Abilities)**, **지식(Knowledge)**, **스킬(Skills)** 등을 정량화\n- 정기적으로 업데이트되는 신뢰성 높은 데이터\n\n**이 노트북에서 사용하는 데이터:**\n- **Abilities (능력)**: 52개의 인간 능력 (예: 언어 이해력, 수리 능력, 신체 능력 등)\n- **Scale ID**: \n  - **IM (Importance)**: 해당 능력이 직업에서 얼마나 중요한지 (1~5점)\n  - **LV (Level)**: 해당 능력이 어느 정도 수준으로 필요한지 (1~7점)\n\n우리는 **IM (Importance)** 스케일만 사용하여 \"직업이 능력을 얼마나 중요하게 여기는가\"를 측정합니다."
  },
  {
   "cell_type": "code",
   "execution_count": null,
   "metadata": {},
   "outputs": [],
   "source": [
    "# Abilities 데이터 구조 확인\n",
    "print(\"=== Abilities 데이터 샘플 ===\")\n",
    "display(abilities_df.head())\n",
    "\n",
    "print(\"\\n=== Scale ID 종류 ===\")\n",
    "print(abilities_df[\"Scale ID\"].value_counts())"
   ]
  },
  {
   "cell_type": "code",
   "execution_count": null,
   "metadata": {},
   "outputs": [],
   "source": [
    "# IM (Importance) 스케일만 필터링\n",
    "abil_im_df = abilities_df[abilities_df[\"Scale ID\"] == \"IM\"].copy()\n",
    "\n",
    "print(f\"✅ IM 스케일 데이터: {len(abil_im_df):,} rows\")\n",
    "print(f\"- 직업 수: {abil_im_df['O*NET-SOC Code'].nunique():,}\")\n",
    "print(f\"- 능력 종류: {abil_im_df['Element Name'].nunique()}\")\n",
    "\n",
    "print(\"\\n=== 샘플 데이터 ===\")\n",
    "display(abil_im_df.head(10))"
   ]
  },
  {
   "cell_type": "code",
   "execution_count": null,
   "metadata": {},
   "outputs": [],
   "source": [
    "# AI-능력 매핑 테이블 확인\n",
    "print(\"=== AI-능력 매핑 데이터 ===\")\n",
    "display(ability_ai_mapping_df.head(10))\n",
    "\n",
    "print(f\"\\n매핑된 능력 수: {len(ability_ai_mapping_df)}\")\n",
    "print(f\"AI 응용 분야: {ability_ai_mapping_df.columns.tolist()[1:]}\")"
   ]
  },
  {
   "cell_type": "code",
   "execution_count": null,
   "metadata": {},
   "outputs": [],
   "source": [
    "# AI 성능 점수 확인\n",
    "print(\"=== AI 성능 점수 (Appendix E) ===\")\n",
    "display(ai_performance_df)\n",
    "\n",
    "print(f\"\\n능력 수: {len(ai_performance_df)}\")"
   ]
  },
  {
   "cell_type": "markdown",
   "metadata": {},
   "source": "## 4. AIOE 계산 - Step 1: R 행렬 (능력 중요도)\n\n### 📐 R 행렬이란? (A<sub>ij</sub> in the formula)\n\nR 행렬은 **각 직업(i)이 각 능력(j)을 얼마나 필요로 하는지**를 나타내는 행렬입니다.\n\n**행렬 구조:**\n```\n              능력1(j=1)  능력2(j=2)  ...  능력52(j=52)\n직업1(i=1)    4.5         3.2         ...  2.1\n직업2(i=2)    2.3         4.8         ...  1.5\n...\n직업N(i=N)    3.9         2.7         ...  4.2\n```\n\n**수식 표현:**\n$$R = A_{ij}$$\n\n여기서:\n- **i**: 직업 인덱스 (행 번호)\n- **j**: 능력 인덱스 (열 번호)  \n- **A<sub>ij</sub>**: 직업 i가 능력 j를 필요로 하는 정도 (1~5점)\n\n**데이터 예시:**\n- **의사(Physician)** → Oral Comprehension(청취 이해력): **4.5점**\n- **조립공(Assembler)** → Oral Comprehension(청취 이해력): **2.1점**\n\n→ 의사는 청취 이해력이 매우 중요하지만, 조립공은 상대적으로 덜 중요함\n\n**O*NET Scale ID:**\n- **IM (Importance)**: 능력의 중요도 (이 노트북에서 사용)\n- LV (Level): 필요한 능력 수준\n\n우리는 **IM (Importance)** 스케일만 사용하여 R 행렬을 구성합니다."
  },
  {
   "cell_type": "code",
   "execution_count": null,
   "metadata": {},
   "outputs": [],
   "source": [
    "# Pivot으로 직업 x 능력 행렬 생성\n",
    "R = abil_im_df.pivot_table(\n",
    "    index=\"O*NET-SOC Code\",\n",
    "    columns=\"Element Name\",\n",
    "    values=\"Data Value\"\n",
    ")\n",
    "\n",
    "print(f\"✅ R 행렬 크기: {R.shape}\")\n",
    "print(f\"- 직업 수: {R.shape[0]:,}\")\n",
    "print(f\"- 능력 수: {R.shape[1]}\")\n",
    "\n",
    "print(\"\\n=== R 행렬 샘플 ===\")\n",
    "display(R.head())"
   ]
  },
  {
   "cell_type": "code",
   "execution_count": null,
   "metadata": {},
   "outputs": [],
   "source": [
    "# 결측치 확인\n",
    "print(\"=== R 행렬 결측치 확인 ===\")\n",
    "total_missing = R.isnull().sum().sum()\n",
    "total_cells = R.shape[0] * R.shape[1]\n",
    "print(f\"결측치 총 개수: {total_missing:,}\")\n",
    "print(f\"결측치 비율: {total_missing / total_cells * 100:.2f}%\")\n",
    "\n",
    "if total_missing > 0:\n",
    "    print(\"\\n능력별 결측치 (상위 5개):\")\n",
    "    missing_by_ability = R.isnull().sum().sort_values(ascending=False).head()\n",
    "    print(missing_by_ability)"
   ]
  },
  {
   "cell_type": "markdown",
   "metadata": {},
   "source": "## 5. AIOE 계산 - Step 2: L 행렬 (AI-능력 매핑)\n\n### 🔗 L 행렬이란? (L<sub>jk</sub> in the formula)\n\nL 행렬은 **각 능력(j)이 각 AI 기술(k)과 얼마나 관련되어 있는지**를 나타내는 행렬입니다.\n\n**행렬 구조:**\n```\n                        Language    Image        Object\n                        Modeling    Recognition  Detection  ...\nWritten Comprehension   0.90        0.10         0.05       ...\nOral Expression         0.85        0.05         0.00       ...\nGross Body Equilibrium  0.00        0.20         0.10       ...\n...\n```\n\n**수식 표현:**\n$$L = L_{jk}$$\n\n여기서:\n- **j**: 능력 인덱스 (행 번호, 52개)\n- **k**: AI 기술 인덱스 (열 번호)\n- **L<sub>jk</sub>**: 능력 j가 AI 기술 k와 연관된 정도 (0~1)\n\n**해석:**\n- **L<sub>jk</sub> = 1**: 능력 j가 AI 기술 k와 완전히 관련됨\n- **L<sub>jk</sub> = 0**: 능력 j가 AI 기술 k와 전혀 관련 없음\n- **0 < L<sub>jk</sub> < 1**: 부분적으로 관련됨\n\n**실제 예시:**\n- **Written Comprehension(독해력)** × **Language Modeling**: **0.90** → 언어 모델이 독해력과 매우 강하게 연결됨\n- **Written Comprehension(독해력)** × **Image Recognition**: **0.10** → 이미지 인식은 독해력과 거의 무관\n- **Gross Body Equilibrium(신체 균형)** × **Language Modeling**: **0.00** → 언어 모델은 신체 능력과 전혀 무관\n\n**데이터 출처:** 논문 Appendix D (전문가 평가를 통해 작성된 매핑표)"
  },
  {
   "cell_type": "code",
   "execution_count": null,
   "metadata": {},
   "outputs": [],
   "source": [
    "# 인덱스 설정\n",
    "L = ability_ai_mapping_df.set_index(\"Human Ability\")\n",
    "\n",
    "print(f\"✅ L 행렬 크기: {L.shape}\")\n",
    "print(f\"- 능력 수: {L.shape[0]}\")\n",
    "print(f\"- AI 응용 분야 수: {L.shape[1]}\")\n",
    "\n",
    "print(\"\\n=== L 행렬 샘플 ===\")\n",
    "display(L.head())"
   ]
  },
  {
   "cell_type": "code",
   "execution_count": null,
   "metadata": {},
   "outputs": [],
   "source": [
    "# Language Modeling 컬럼만 확인\n",
    "print(\"=== Language Modeling 관련성 점수 ===\")\n",
    "lm_scores = L[\"Language Modeling\"].sort_values(ascending=False)\n",
    "print(\"\\nTop 10 능력:\")\n",
    "print(lm_scores.head(10))\n",
    "\n",
    "# 시각화\n",
    "plt.figure(figsize=(10, 6))\n",
    "lm_scores.head(15).plot(kind='barh', color='steelblue')\n",
    "plt.xlabel('Language Modeling 관련성 점수')\n",
    "plt.ylabel('능력')\n",
    "plt.title('Language Modeling과 가장 관련성 높은 능력 (Top 15)')\n",
    "plt.tight_layout()\n",
    "plt.show()"
   ]
  },
  {
   "cell_type": "markdown",
   "metadata": {},
   "source": "## 6. AIOE 계산 - Step 3: I 벡터 (AI 성능)\n\n### ⚡ I 벡터란? (I<sub>jk</sub> in the formula)\n\nI 벡터는 **AI 기술 k가 각 능력 j를 얼마나 잘 수행할 수 있는지**를 나타내는 성능 지표입니다.\n\n**벡터 구조:**\n```\n능력(j)                       AI 성능(I_jk)\nWritten Comprehension         0.85\nOral Expression               0.72\nReading Comprehension         0.90\nMathematical Reasoning        0.65\nGross Body Equilibrium        0.00\n...\n```\n\n**수식 표현:**\n$$I = I_{jk}$$\n\n여기서:\n- **j**: 능력 인덱스\n- **k**: AI 기술 인덱스 (이 노트북에서는 Language Modeling만 사용)\n- **I<sub>jk</sub>**: AI 기술 k가 능력 j를 수행하는 성능 (0~1)\n\n**해석:**\n- **I<sub>jk</sub> = 1**: AI가 해당 능력을 완벽하게 수행\n- **I<sub>jk</sub> = 0**: AI가 해당 능력을 전혀 수행 못함\n- **0 < I<sub>jk</sub> < 1**: 부분적으로 수행 가능\n\n**실제 예시:**\n- **Reading Comprehension(독해력)**: **0.90** → GPT는 독해를 매우 잘함\n- **Mathematical Reasoning(수리 추론)**: **0.65** → GPT는 수학을 어느 정도 할 수 있음\n- **Gross Body Equilibrium(신체 균형)**: **0.00** → GPT는 신체 능력을 전혀 수행할 수 없음\n\n**데이터 출처:** 논문 Appendix E (AI 벤치마크 테스트 결과를 기반으로 측정)"
  },
  {
   "cell_type": "code",
   "execution_count": null,
   "metadata": {},
   "outputs": [],
   "source": [
    "# AI 성능 점수 추출\n",
    "I = ai_performance_df.set_index(\"O*NET Abilities\")[\"Ability-Level AI Exposure\"]\n",
    "\n",
    "print(f\"✅ I 벡터 길이: {len(I)}\")\n",
    "print(f\"점수 범위: {I.min():.2f} ~ {I.max():.2f}\")\n",
    "print(f\"평균: {I.mean():.2f}\")\n",
    "\n",
    "print(\"\\n=== I 벡터 샘플 ===\")\n",
    "print(I.head(10))"
   ]
  },
  {
   "cell_type": "code",
   "execution_count": null,
   "metadata": {},
   "outputs": [],
   "source": [
    "# 시각화\n",
    "plt.figure(figsize=(10, 8))\n",
    "I.sort_values(ascending=False).plot(kind='barh', color='coral')\n",
    "plt.xlabel('AI 성능 점수')\n",
    "plt.ylabel('능력')\n",
    "plt.title('능력별 AI 성능 점수 (Ability-Level AI Exposure)')\n",
    "plt.tight_layout()\n",
    "plt.show()"
   ]
  },
  {
   "cell_type": "markdown",
   "metadata": {},
   "source": "## 7. 정규화 (컬럼명 통일)\n\n### 🔧 왜 정규화가 필요한가?\n\nR, L, I 세 개의 데이터를 결합하려면 **능력 이름이 정확히 일치**해야 합니다.\n\n**문제점:**\n- 데이터 출처가 다르면 능력 이름이 미묘하게 다를 수 있음\n  - 예: \"Oral Comprehension\" vs \"oral comprehension\" vs \"Oral Comprehension \" (공백 포함)\n- 대소문자, 공백 차이로 인해 같은 능력임에도 매칭 실패 가능\n\n**해결 방법:**\n1. **소문자 변환**: 대소문자 차이 제거\n2. **공백 제거**: 앞뒤 불필요한 공백 제거\n\n이렇게 하면 \"Oral Comprehension\"과 \"oral comprehension\"이 \"oral comprehension\"으로 통일되어 정확하게 매칭됩니다.\n\n**중요성:**\n- 매칭 실패 시 해당 능력은 AIOE 계산에서 제외됨\n- 정규화를 통해 **데이터 손실을 최소화**하고 정확한 계산을 보장"
  },
  {
   "cell_type": "code",
   "execution_count": null,
   "metadata": {},
   "outputs": [],
   "source": [
    "print(\"=== 정규화 전 ===\")\n",
    "print(f\"R 컬럼 샘플: {R.columns[:3].tolist()}\")\n",
    "print(f\"L 인덱스 샘플: {L.index[:3].tolist()}\")\n",
    "print(f\"I 인덱스 샘플: {I.index[:3].tolist()}\")\n",
    "\n",
    "# 소문자 변환 및 공백 제거\n",
    "R.columns = R.columns.str.strip().str.lower()\n",
    "L.index = L.index.str.strip().str.lower()\n",
    "I.index = I.index.str.strip().str.lower()\n",
    "\n",
    "print(\"\\n=== 정규화 후 ===\")\n",
    "print(f\"R 컬럼 샘플: {R.columns[:3].tolist()}\")\n",
    "print(f\"L 인덱스 샘플: {L.index[:3].tolist()}\")\n",
    "print(f\"I 인덱스 샘플: {I.index[:3].tolist()}\")"
   ]
  },
  {
   "cell_type": "code",
   "execution_count": null,
   "metadata": {},
   "outputs": [],
   "source": [
    "# 매칭 확인\n",
    "r_abilities = set(R.columns)\n",
    "l_abilities = set(L.index)\n",
    "i_abilities = set(I.index)\n",
    "\n",
    "matched_abilities = r_abilities & l_abilities & i_abilities\n",
    "\n",
    "print(\"=== 능력 매칭 확인 ===\")\n",
    "print(f\"R의 능력 수: {len(r_abilities)}\")\n",
    "print(f\"L의 능력 수: {len(l_abilities)}\")\n",
    "print(f\"I의 능력 수: {len(i_abilities)}\")\n",
    "print(f\"\\n✅ 모두 매칭된 능력 수: {len(matched_abilities)}\")\n",
    "\n",
    "# 매칭 안된 능력 확인\n",
    "r_only = r_abilities - matched_abilities\n",
    "l_only = l_abilities - matched_abilities\n",
    "i_only = i_abilities - matched_abilities\n",
    "\n",
    "if r_only:\n",
    "    print(f\"\\n⚠️ R에만 있는 능력 ({len(r_only)}개): {list(r_only)[:5]}...\")\n",
    "if l_only:\n",
    "    print(f\"⚠️ L에만 있는 능력 ({len(l_only)}개): {list(l_only)[:5]}...\")\n",
    "if i_only:\n",
    "    print(f\"⚠️ I에만 있는 능력 ({len(i_only)}개): {list(i_only)[:5]}...\")"
   ]
  },
  {
   "cell_type": "markdown",
   "metadata": {},
   "source": "## 8. AIOE 계산 - 최종 행렬 곱\n\n### 🎯 AIOE 계산의 전체 과정\n\n이제 R, L, I를 결합하여 최종 AIOE 점수를 계산합니다.\n\n---\n\n### 📊 Step-by-step 계산\n\n**공식 (다시 한번):**\n\n$$\n\\text{AIOE}_k = \\frac{\\sum_{j=1}^{52} A_{ij} \\times L_{jk} \\times I_{jk}}{\\sum_{j=1}^{52} L_{jk} \\times I_{jk}}\n$$\n\n**이 공식을 3단계로 나누면:**\n\n#### **Step 1: L × I 계산 (능력별 AI 가중치)**\n\n$$\nW_j = L_{jk} \\times I_{jk}\n$$\n\n- 각 능력 j가 AI에 의해 얼마나 \"영향받을 수 있는지\"를 계산\n- AI와 관련성이 높고(L 큼) + AI 성능이 좋으면(I 큼) → W가 커짐\n\n**예시:**\n- **Written Comprehension**: L=0.90, I=0.85 → W = 0.765 (높은 가중치)\n- **Gross Body Equilibrium**: L=0.00, I=0.00 → W = 0.000 (가중치 없음)\n\n---\n\n#### **Step 2: R × (L×I) 계산 (분자)**\n\n$$\n\\text{분자} = \\sum_{j=1}^{52} A_{ij} \\times W_j = \\sum_{j=1}^{52} A_{ij} \\times L_{jk} \\times I_{jk}\n$$\n\n- 직업 i가 요구하는 능력들에 AI 가중치를 곱해서 합산\n- \"이 직업이 AI로 대체 가능한 능력을 얼마나 많이 필요로 하는가?\"\n\n**예시 (교수 직업):**\n- Written Comprehension 중요도: 4.5, W=0.765 → 기여도 = 3.44\n- Oral Expression 중요도: 4.2, W=0.612 → 기여도 = 2.57\n- Gross Body Equilibrium 중요도: 1.0, W=0.000 → 기여도 = 0.00\n- **합계**: 약 6.01 (다른 능력들도 포함)\n\n---\n\n#### **Step 3: 정규화 (분모로 나누기)**\n\n$$\n\\text{분모} = \\sum_{j=1}^{52} L_{jk} \\times I_{jk} = \\sum_{j=1}^{52} W_j\n$$\n\n- 모든 능력의 AI 가중치 총합\n- 분자를 분모로 나누면 **가중 평균** 형태가 됨\n\n**최종 AIOE:**\n\n$$\n\\text{AIOE}_k = \\frac{\\text{분자}}{\\text{분모}} = \\frac{6.01}{15.2} \\approx 0.395\n$$\n\n→ 이 값은 0~5 범위로 스케일링되어 최종 점수가 됨\n\n---\n\n### 💡 직관적 이해\n\n**AIOE는 다음 질문에 답합니다:**\n\n> \"이 직업이 필요로 하는 능력들 중, AI가 대체할 수 있는 능력의 비중은 얼마나 되는가?\"\n\n- **높은 AIOE (예: 4.5)**: 직업의 핵심 능력을 AI가 대부분 수행 가능 → 높은 영향\n- **낮은 AIOE (예: 1.2)**: 직업의 핵심 능력을 AI가 거의 수행 불가 → 낮은 영향\n\n---\n\n### 🧮 코드에서의 구현\n\n아래 코드에서:\n- `LI = L.mul(I)` → Step 1: W<sub>j</sub> 계산\n- `numerator = R.dot(LI)` → Step 2: 분자 계산\n- `denominator = LI.sum()` → Step 3: 분모 계산\n- `AIOE = numerator / denominator` → 최종 점수"
  },
  {
   "cell_type": "code",
   "execution_count": null,
   "metadata": {},
   "outputs": [],
   "source": [
    "# Step 1: L × I (능력별 가중치)\n",
    "LI = L.mul(I, axis=0)\n",
    "\n",
    "print(f\"✅ LI 행렬 크기: {LI.shape}\")\n",
    "print(\"\\n=== LI 행렬 샘플 ===\")\n",
    "display(LI.head())"
   ]
  },
  {
   "cell_type": "markdown",
   "source": "### 💡 LI 행렬 해석하기\n\nLI 행렬(L × I)은 **각 능력이 AI에 의해 얼마나 영향받을 수 있는지**를 나타냅니다.\n\n**계산 과정:**\n- **L (연관성)**: 능력과 AI 기술의 관련성\n- **I (성능)**: AI가 그 능력을 수행하는 성능\n- **LI = L × I**: 두 값을 곱하면 \"실제로 AI가 그 능력을 대체할 가능성\"\n\n**예시로 이해하기:**\n\n| 능력 | L (관련성) | I (AI 성능) | LI (영향도) | 해석 |\n|------|------------|-------------|-------------|------|\n| Written Comprehension | 0.90 | 0.85 | 0.765 | 언어 모델과 강하게 연관 + 성능 우수 = **높은 영향** |\n| Mathematical Reasoning | 0.70 | 0.65 | 0.455 | 연관성 있음 + 성능 보통 = **중간 영향** |\n| Gross Body Equilibrium | 0.00 | 0.00 | 0.000 | 신체 능력은 언어 모델과 무관 = **영향 없음** |\n\n**왜 곱셈인가?**\n- 관련성만 높고 성능이 낮으면 → 실제 영향은 작음\n- 성능만 높고 관련성이 낮으면 → 역시 실제 영향은 작음\n- **둘 다 높아야** → 실제로 AI가 그 능력을 대체 가능\n\n이렇게 계산된 LI 값이 다음 단계에서 **가중치**로 사용됩니다.",
   "metadata": {}
  },
  {
   "cell_type": "code",
   "execution_count": null,
   "metadata": {},
   "outputs": [],
   "source": [
    "# Step 2: R과 정렬\n",
    "LI_aligned = LI.reindex(R.columns).fillna(0)\n",
    "\n",
    "print(f\"✅ 정렬 후 LI 크기: {LI_aligned.shape}\")\n",
    "print(f\"- R의 컬럼 수와 일치: {LI_aligned.shape[0] == len(R.columns)}\")\n",
    "\n",
    "print(\"\\n=== 정렬 후 LI 샘플 ===\")\n",
    "display(LI_aligned.head())"
   ]
  },
  {
   "cell_type": "code",
   "execution_count": null,
   "metadata": {},
   "outputs": [],
   "source": [
    "# Step 3: AIOE 계산\n",
    "# 분자: R × LI\n",
    "numerator = R.dot(LI_aligned)\n",
    "\n",
    "# 분모: 각 AI 분야별 능력 가중치 합계\n",
    "denominator = LI_aligned.sum(axis=0)\n",
    "\n",
    "# AIOE = 분자 / 분모\n",
    "aioe_df = numerator.divide(denominator, axis=1)\n",
    "\n",
    "print(f\"✅ AIOE 결과 크기: {aioe_df.shape}\")\n",
    "print(f\"- 직업 수: {aioe_df.shape[0]:,}\")\n",
    "print(f\"- AI 응용 분야 수: {aioe_df.shape[1]}\")\n",
    "\n",
    "print(\"\\n=== AIOE 결과 샘플 ===\")\n",
    "display(aioe_df.head())"
   ]
  },
  {
   "cell_type": "code",
   "execution_count": null,
   "metadata": {},
   "outputs": [],
   "source": "## 9. Language Modeling AIOE 추출\n\n### 🎯 왜 Language Modeling만 추출하는가?\n\n앞 단계에서 우리는 여러 AI 기술(Language Modeling, Image Recognition, Object Detection 등)에 대한 AIOE를 모두 계산했습니다.\n\n**이 노트북의 목적:**\n- **ChatGPT와 같은 언어 모델**이 직업에 미치는 영향 분석\n- 따라서 **Language Modeling** 컬럼만 추출하여 사용\n\n**다른 AI 기술도 분석 가능:**\n- `aioe_df[\"Image Recognition\"]`: 이미지 인식 AI(예: 컴퓨터 비전)의 영향\n- `aioe_df[\"Object Detection\"]`: 객체 탐지 AI의 영향\n- 같은 방법론으로 다양한 AI 기술의 직업별 영향을 분석 가능\n\n이제 Language Modeling AIOE 점수를 가진 직업 데이터를 기반으로 추가 분석을 진행합니다."
  },
  {
   "cell_type": "markdown",
   "metadata": {},
   "source": [
    "## 9. Language Modeling AIOE 추출\n",
    "\n",
    "Language Modeling 컬럼만 추출하여 직업별 노출도를 확인합니다."
   ]
  },
  {
   "cell_type": "code",
   "execution_count": null,
   "metadata": {},
   "outputs": [],
   "source": [
    "# Language Modeling 컬럼만 추출\n",
    "job_aioe_scores = aioe_df[\"Language Modeling\"].reset_index()\n",
    "job_aioe_scores.columns = [\"soc_code\", \"AIOE\"]\n",
    "\n",
    "print(f\"✅ 직업별 AIOE 점수: {len(job_aioe_scores):,} rows\")\n",
    "print(\"\\n=== 상위 10개 직업 ===\")\n",
    "display(job_aioe_scores.nlargest(10, \"AIOE\"))"
   ]
  },
  {
   "cell_type": "code",
   "execution_count": null,
   "metadata": {},
   "outputs": [],
   "source": [
    "# AIOE 분포 통계\n",
    "print(\"=== AIOE 분포 ===\")\n",
    "print(job_aioe_scores[\"AIOE\"].describe())\n",
    "\n",
    "# 시각화\n",
    "fig, axes = plt.subplots(1, 2, figsize=(14, 5))\n",
    "\n",
    "# 히스토그램\n",
    "axes[0].hist(job_aioe_scores[\"AIOE\"], bins=50, edgecolor='black', alpha=0.7, color='steelblue')\n",
    "axes[0].set_xlabel(\"AIOE Score\")\n",
    "axes[0].set_ylabel(\"Frequency\")\n",
    "axes[0].set_title(\"AIOE 점수 분포\")\n",
    "axes[0].grid(alpha=0.3)\n",
    "\n",
    "# 박스플롯\n",
    "axes[1].boxplot(job_aioe_scores[\"AIOE\"], vert=True)\n",
    "axes[1].set_ylabel(\"AIOE Score\")\n",
    "axes[1].set_title(\"AIOE 박스플롯\")\n",
    "axes[1].grid(alpha=0.3)\n",
    "\n",
    "plt.tight_layout()\n",
    "plt.show()"
   ]
  },
  {
   "cell_type": "markdown",
   "metadata": {},
   "source": [
    "## 10. 직업 정보 병합"
   ]
  },
  {
   "cell_type": "code",
   "execution_count": null,
   "metadata": {},
   "outputs": [],
   "source": [
    "# 직업 정보 데이터 확인\n",
    "occ_sel = occupations_df[[\"O*NET-SOC Code\", \"Title\", \"Description\"]]\n",
    "\n",
    "print(f\"직업 정보 데이터: {len(occ_sel):,} rows\")\n",
    "print(\"\\n=== 샘플 ===\")\n",
    "display(occ_sel.head())"
   ]
  },
  {
   "cell_type": "code",
   "execution_count": null,
   "metadata": {},
   "outputs": [],
   "source": [
    "# AIOE와 병합\n",
    "job_aioe_with_info = job_aioe_scores.merge(\n",
    "    occ_sel,\n",
    "    left_on=\"soc_code\",\n",
    "    right_on=\"O*NET-SOC Code\",\n",
    "    how=\"left\"\n",
    ").drop(columns=[\"O*NET-SOC Code\"])\n",
    "\n",
    "print(f\"✅ 병합 후: {len(job_aioe_with_info):,} rows\")\n",
    "\n",
    "# 병합 결과 확인\n",
    "no_title = job_aioe_with_info[\"Title\"].isnull().sum()\n",
    "print(f\"\\n⚠️ Title 없는 직업: {no_title}개\")\n",
    "\n",
    "print(\"\\n=== 병합 결과 샘플 ===\")\n",
    "display(job_aioe_with_info.head())"
   ]
  },
  {
   "cell_type": "code",
   "execution_count": null,
   "metadata": {},
   "outputs": [],
   "source": "## 11. SOC 코드 정리 및 그룹화\n\n### 🏷️ SOC 코드란?\n\n**SOC (Standard Occupational Classification)**은 미국 정부에서 사용하는 직업 분류 체계입니다.\n\n**SOC 코드 구조:**\n```\n예: 15-1252.00\n    ├─ 15: Major Group (컴퓨터 및 수학 관련 직업)\n    ├─ 15-12: Minor Group (컴퓨터 관련 직업)\n    ├─ 15-1252: Detailed Occupation (소프트웨어 개발자)\n    └─ 15-1252.00: O*NET-SOC 세부 직업\n```\n\n**코드 길이:**\n- **7자리** (예: 15-1252): 일반적인 직업 분류 (BLS, OEWS 등에서 사용)\n- **8~10자리** (예: 15-1252.00): O*NET에서 더 세분화한 직업\n\n**왜 7자리로 통일하는가?**\n- O*NET은 세부적으로 직업을 나누지만, OEWS 임금 데이터는 7자리 코드 사용\n- 두 데이터를 병합하려면 **코드 체계를 통일**해야 함\n- 예: \"15-1252.01 (게임 개발자)\"와 \"15-1252.02 (앱 개발자)\"를 \"15-1252 (소프트웨어 개발자)\"로 합침\n\n**그룹화의 영향:**\n- 같은 7자리 코드를 가진 직업들의 AIOE는 **평균**으로 계산\n- 직업 이름과 설명은 **세미콜론(;)**으로 연결하여 보존"
  },
  {
   "cell_type": "markdown",
   "metadata": {},
   "source": [
    "## 11. SOC 코드 정리 및 그룹화\n",
    "\n",
    "SOC 코드를 7자리로 통일하고, 중복된 직업을 그룹화합니다."
   ]
  },
  {
   "cell_type": "code",
   "execution_count": null,
   "metadata": {},
   "outputs": [],
   "source": [
    "# SOC 코드를 7자리로 변환\n",
    "job_aioe_with_info[\"soc_code_clean\"] = job_aioe_with_info[\"soc_code\"].str[:7]\n",
    "\n",
    "print(\"=== SOC 코드 변환 ===\")\n",
    "print(f\"원본 직업 수: {job_aioe_with_info['soc_code'].nunique():,}\")\n",
    "print(f\"7자리 코드 직업 수: {job_aioe_with_info['soc_code_clean'].nunique():,}\")\n",
    "\n",
    "# 샘플 확인\n",
    "print(\"\\n=== 변환 예시 ===\")\n",
    "display(job_aioe_with_info[[\"soc_code\", \"soc_code_clean\", \"Title\"]].head())"
   ]
  },
  {
   "cell_type": "code",
   "execution_count": null,
   "metadata": {},
   "outputs": [],
   "source": [
    "# 병합된 직업 확인 (같은 7자리 코드를 가진 직업들)\n",
    "merged_jobs = job_aioe_with_info.groupby(\"soc_code_clean\").filter(lambda x: len(x) > 1)\n",
    "\n",
    "if len(merged_jobs) > 0:\n",
    "    print(f\"⚠️ 병합될 직업: {len(merged_jobs):,}개\")\n",
    "    print(\"\\n=== 병합 예시 (상위 10개) ===\")\n",
    "    display(merged_jobs[[\"soc_code\", \"soc_code_clean\", \"Title\", \"AIOE\"]].head(10))\n",
    "else:\n",
    "    print(\"✅ 병합될 직업 없음\")"
   ]
  },
  {
   "cell_type": "code",
   "execution_count": null,
   "metadata": {},
   "outputs": [],
   "source": "## 12. OEWS 데이터 처리 (임금 및 고용)\n\n### 💰 OEWS 데이터란?\n\n**OEWS (Occupational Employment and Wage Statistics)**는 미국 노동통계국(BLS)에서 제공하는 직업별 고용 및 임금 통계입니다.\n\n**주요 정보:**\n- **TOT_EMP (Total Employment)**: 해당 직업의 총 고용 인원 수\n- **A_MEAN (Annual Mean Wage)**: 해당 직업의 연평균 임금 (달러)\n- 미국 전역의 주(State), 대도시권(Metropolitan Area) 단위로 제공\n\n**데이터 구조:**\n```\n한 직업(예: Software Developer)이 여러 지역에 걸쳐 다수의 행으로 존재\n- California, San Francisco: 50,000명, $150,000\n- New York, New York City: 40,000명, $140,000\n- Texas, Austin: 20,000명, $120,000\n→ 전국 단위로 집계 필요\n```\n\n**집계 방법:**\n1. **Employment**: 모든 지역의 고용 인원을 **합산**\n2. **Mean_Wage**: 고용 인원으로 **가중평균** 계산\n   - (지역별 평균임금 × 고용인원)의 합 ÷ 총 고용인원\n   - 큰 지역의 임금이 더 큰 영향을 미치도록\n\n**왜 OEWS 데이터를 추가하는가?**\n- AIOE 점수와 **임금**의 관계 분석 → \"AI 영향을 많이 받는 직업이 고임금인가?\"\n- AIOE 점수와 **고용 규모**의 관계 분석 → \"얼마나 많은 사람들이 영향받는가?\""
  },
  {
   "cell_type": "markdown",
   "metadata": {},
   "source": [
    "## 12. OEWS 데이터 처리 (임금 및 고용)\n",
    "\n",
    "BLS OEWS 데이터에서 직업별 고용 규모와 평균 임금을 추출합니다."
   ]
  },
  {
   "cell_type": "code",
   "execution_count": null,
   "metadata": {},
   "outputs": [],
   "source": [
    "# OEWS 데이터 확인\n",
    "print(\"=== OEWS 데이터 구조 ===\")\n",
    "print(f\"전체 행 수: {len(oews_df):,}\")\n",
    "print(f\"\\n컬럼 목록:\")\n",
    "print(oews_df.columns.tolist())\n",
    "\n",
    "print(\"\\n=== 샘플 데이터 ===\")\n",
    "display(oews_df[[\"OCC_CODE\", \"OCC_TITLE\", \"TOT_EMP\", \"A_MEAN\"]].head())"
   ]
  },
  {
   "cell_type": "code",
   "execution_count": null,
   "metadata": {},
   "outputs": [],
   "source": [
    "# 직업 코드별 집계 (전국 단위)\n",
    "oews_grouped = oews_df.groupby(\"OCC_CODE\", group_keys=False).apply(\n",
    "    lambda g: pd.Series({\n",
    "        \"Employment\": pd.to_numeric(g[\"TOT_EMP\"], errors=\"coerce\").sum(),\n",
    "        \"Mean_Wage\": (\n",
    "            (pd.to_numeric(g[\"A_MEAN\"], errors=\"coerce\") * \n",
    "             pd.to_numeric(g[\"TOT_EMP\"], errors=\"coerce\")).sum()\n",
    "            / pd.to_numeric(g[\"TOT_EMP\"], errors=\"coerce\").sum()\n",
    "            if pd.to_numeric(g[\"TOT_EMP\"], errors=\"coerce\").sum() > 0 else np.nan\n",
    "        )\n",
    "    }),\n",
    "    include_groups=False\n",
    ").reset_index()\n",
    "\n",
    "print(f\"✅ OEWS 집계 후 직업 수: {len(oews_grouped):,}\")\n",
    "\n",
    "print(\"\\n=== OEWS 집계 결과 샘플 ===\")\n",
    "display(oews_grouped.head())"
   ]
  },
  {
   "cell_type": "code",
   "execution_count": null,
   "metadata": {},
   "outputs": [],
   "source": [
    "# 컬럼명 정리 및 SOC 코드 형식 통일\n",
    "oews_grouped.rename(columns={\"OCC_CODE\": \"soc_code_clean\"}, inplace=True)\n",
    "oews_grouped[\"soc_code_clean\"] = oews_grouped[\"soc_code_clean\"].astype(str)\n",
    "\n",
    "print(\"✅ 컬럼명 변경 완료\")\n",
    "print(\"\\n=== 변경 후 샘플 ===\")\n",
    "display(oews_grouped.head())"
   ]
  },
  {
   "cell_type": "code",
   "execution_count": null,
   "metadata": {},
   "outputs": [],
   "source": [
    "# 임금 및 고용 분포 확인\n",
    "print(\"=== OEWS 데이터 통계 ===\")\n",
    "print(\"\\n[Employment]\")\n",
    "print(oews_grouped[\"Employment\"].describe())\n",
    "\n",
    "print(\"\\n[Mean_Wage]\")\n",
    "wage_data = oews_grouped[oews_grouped[\"Mean_Wage\"].notna()]\n",
    "print(wage_data[\"Mean_Wage\"].describe())"
   ]
  },
  {
   "cell_type": "code",
   "execution_count": null,
   "metadata": {},
   "outputs": [],
   "source": [
    "# 시각화\n",
    "fig, axes = plt.subplots(1, 2, figsize=(14, 5))\n",
    "\n",
    "# 고용 분포\n",
    "employment_clean = oews_grouped[oews_grouped[\"Employment\"] > 0]\n",
    "axes[0].hist(np.log10(employment_clean[\"Employment\"]), bins=50, edgecolor='black', alpha=0.7, color='green')\n",
    "axes[0].set_xlabel(\"Log10(Employment)\")\n",
    "axes[0].set_ylabel(\"Frequency\")\n",
    "axes[0].set_title(\"직업별 고용 규모 분포 (로그 스케일)\")\n",
    "axes[0].grid(alpha=0.3)\n",
    "\n",
    "# 임금 분포\n",
    "wage_clean = oews_grouped[(oews_grouped[\"Mean_Wage\"].notna()) & (oews_grouped[\"Mean_Wage\"] > 0)]\n",
    "axes[1].hist(wage_clean[\"Mean_Wage\"], bins=50, edgecolor='black', alpha=0.7, color='orange')\n",
    "axes[1].set_xlabel(\"Mean Wage ($)\")\n",
    "axes[1].set_ylabel(\"Frequency\")\n",
    "axes[1].set_title(\"직업별 평균 임금 분포\")\n",
    "axes[1].grid(alpha=0.3)\n",
    "\n",
    "plt.tight_layout()\n",
    "plt.show()"
   ]
  },
  {
   "cell_type": "markdown",
   "metadata": {},
   "source": [
    "## 13. 최종 데이터 병합"
   ]
  },
  {
   "cell_type": "code",
   "execution_count": null,
   "metadata": {},
   "outputs": [],
   "source": [
    "# AIOE + 직업 정보 + OEWS 병합\n",
    "job_aioe_analysis = job_grouped.merge(\n",
    "    oews_grouped,\n",
    "    on=\"soc_code_clean\",\n",
    "    how=\"left\"\n",
    ")\n",
    "\n",
    "print(f\"✅ 최종 병합 완료: {len(job_aioe_analysis):,} rows\")\n",
    "print(\"\\n=== 최종 데이터 샘플 ===\")\n",
    "display(job_aioe_analysis.head())"
   ]
  },
  {
   "cell_type": "code",
   "execution_count": null,
   "metadata": {},
   "outputs": [],
   "source": "## 14. 데이터 품질 검증 및 결측치 처리\n\n### 🔍 결측치 처리 전략\n\n결측치(Missing Data)는 데이터 분석에서 신중하게 다루어야 하는 중요한 문제입니다.\n\n**결측치가 발생하는 이유:**\n1. **O*NET과 OEWS 코드 불일치**: O*NET의 세부 직업이 OEWS에 없는 경우\n2. **신규 직업**: 최근 생긴 직업은 OEWS에 아직 통계가 없을 수 있음\n3. **통폐합된 직업**: 직업 분류가 변경되어 매칭 실패\n\n**우리의 처리 방식:**\n\n| 데이터 | 결측치 처리 | 이유 |\n|--------|-------------|------|\n| **Title / Description** | \"Unknown\"으로 채움 | 분석에 필수적이지 않고, 표시용이므로 기본값 사용 |\n| **Employment / Mean_Wage** | **NaN 유지** | ⚠️ 0으로 채우면 안 됨! |\n\n**왜 Employment/Wage를 0으로 채우면 안 되는가?**\n\n❌ **잘못된 방법:**\n```python\n# 나쁜 예: 0으로 채우기\ndf[\"Mean_Wage\"].fillna(0)  # 위험!\n```\n\n이렇게 하면:\n- \"데이터 없음\"과 \"실제로 임금이 0원\"을 구분할 수 없음\n- 평균 계산 시 0이 포함되어 결과가 왜곡됨\n- 시각화에서 0원 직업이 나타나 혼란 초래\n\n✅ **올바른 방법:**\n```python\n# 좋은 예: NaN 유지 + 플래그 추가\ndf[\"has_wage_data\"] = ~df[\"Mean_Wage\"].isnull()\n```\n\n이렇게 하면:\n- \"데이터 있음/없음\"을 명확히 구분\n- 분석 시 `df[df[\"has_wage_data\"]]`로 필터링 가능\n- 데이터 무결성 유지"
  },
  {
   "cell_type": "markdown",
   "metadata": {},
   "source": [
    "## 14. 데이터 품질 검증 및 결측치 처리"
   ]
  },
  {
   "cell_type": "code",
   "execution_count": null,
   "metadata": {},
   "outputs": [],
   "source": [
    "# Title/Description 결측치 처리\n",
    "job_aioe_analysis[\"Title\"] = job_aioe_analysis[\"Title\"].fillna(\"Unknown\")\n",
    "job_aioe_analysis[\"Description\"] = job_aioe_analysis[\"Description\"].fillna(\"Unknown\")\n",
    "\n",
    "# Employment/Wage 데이터 플래그 추가 (결측치는 NaN으로 유지)\n",
    "job_aioe_analysis[\"has_employment_data\"] = ~job_aioe_analysis[\"Employment\"].isnull()\n",
    "job_aioe_analysis[\"has_wage_data\"] = ~job_aioe_analysis[\"Mean_Wage\"].isnull()\n",
    "\n",
    "print(\"✅ 결측치 처리 완료\")\n",
    "print(f\"\\n- Employment 데이터 있음: {job_aioe_analysis['has_employment_data'].sum():,}개\")\n",
    "print(f\"- Wage 데이터 있음: {job_aioe_analysis['has_wage_data'].sum():,}개\")"
   ]
  },
  {
   "cell_type": "code",
   "execution_count": null,
   "metadata": {},
   "outputs": [],
   "source": [
    "# 최종 데이터 요약 통계\n",
    "print(\"=== AIOE 점수 분포 ===\")\n",
    "print(job_aioe_analysis[\"AIOE\"].describe())\n",
    "\n",
    "print(\"\\n=== 임금 데이터 (결측 제외) ===\")\n",
    "wage_available = job_aioe_analysis[job_aioe_analysis[\"has_wage_data\"]]\n",
    "print(f\"임금 데이터 있는 직업: {len(wage_available):,}개\")\n",
    "print(wage_available[\"Mean_Wage\"].describe())"
   ]
  },
  {
   "cell_type": "code",
   "source": "# OEWS와 매칭 안된 직업 분석\nunmatched = job_aioe_analysis[~job_aioe_analysis[\"has_wage_data\"]]\n\nprint(\"=== OEWS 매칭 분석 ===\")\nprint(f\"총 직업 수: {len(job_aioe_analysis):,}\")\nprint(f\"매칭된 직업: {job_aioe_analysis['has_wage_data'].sum():,}\")\nprint(f\"매칭 안된 직업: {len(unmatched):,}\")\nprint(f\"매칭률: {job_aioe_analysis['has_wage_data'].sum() / len(job_aioe_analysis) * 100:.1f}%\")\n\nif len(unmatched) > 0:\n    print(\"\\n=== 매칭 안된 직업 중 AIOE 상위 10개 ===\")\n    display(unmatched.nlargest(10, \"AIOE\")[[\"soc_code_clean\", \"Title\", \"AIOE\"]])",
   "metadata": {},
   "execution_count": null,
   "outputs": []
  },
  {
   "cell_type": "code",
   "execution_count": null,
   "metadata": {},
   "outputs": [],
   "source": [
    "# AIOE와 임금의 관계 시각화\n",
    "wage_data = job_aioe_analysis[job_aioe_analysis[\"has_wage_data\"]]\n",
    "\n",
    "plt.figure(figsize=(10, 6))\n",
    "plt.scatter(wage_data[\"AIOE\"], wage_data[\"Mean_Wage\"], alpha=0.5, s=30)\n",
    "plt.xlabel(\"AIOE Score\")\n",
    "plt.ylabel(\"Mean Wage ($)\")\n",
    "plt.title(\"AIOE 점수와 평균 임금의 관계\")\n",
    "plt.grid(alpha=0.3)\n",
    "\n",
    "# 추세선\n",
    "z = np.polyfit(wage_data[\"AIOE\"], wage_data[\"Mean_Wage\"], 1)\n",
    "p = np.poly1d(z)\n",
    "plt.plot(wage_data[\"AIOE\"].sort_values(), p(wage_data[\"AIOE\"].sort_values()), \n",
    "         \"r--\", alpha=0.8, linewidth=2, label=f'추세선: y={z[0]:.2f}x+{z[1]:.2f}')\n",
    "plt.legend()\n",
    "plt.tight_layout()\n",
    "plt.show()\n",
    "\n",
    "# 상관계수\n",
    "correlation = wage_data[[\"AIOE\", \"Mean_Wage\"]].corr().iloc[0, 1]\n",
    "print(f\"\\n상관계수: {correlation:.4f}\")"
   ]
  },
  {
   "cell_type": "markdown",
   "metadata": {},
   "source": [
    "## 15. 최종 결과 확인"
   ]
  },
  {
   "cell_type": "code",
   "execution_count": null,
   "metadata": {},
   "outputs": [],
   "source": [
    "# AIOE 상위 20개 직업\n",
    "print(\"=== AIOE 상위 20개 직업 ===\")\n",
    "top_20 = job_aioe_analysis.nlargest(20, \"AIOE\")\n",
    "display(top_20[[\"soc_code_clean\", \"Title\", \"AIOE\", \"Mean_Wage\", \"Employment\"]])"
   ]
  },
  {
   "cell_type": "code",
   "source": "# Top 10 vs Bottom 10 비교 시각화\nfig, axes = plt.subplots(1, 2, figsize=(16, 6))\n\n# Top 10 AIOE 직업\ntop_10 = top_20.head(10)\naxes[0].barh(range(len(top_10)), top_10[\"AIOE\"], color='steelblue')\naxes[0].set_yticks(range(len(top_10)))\naxes[0].set_yticklabels(top_10[\"Title\"], fontsize=9)\naxes[0].invert_yaxis()\naxes[0].set_xlabel(\"AIOE Score\")\naxes[0].set_title(\"AIOE 상위 10개 직업\")\naxes[0].grid(axis='x', alpha=0.3)\n\n# Bottom 10 AIOE 직업\nbottom_10 = bottom_20.head(10)\naxes[1].barh(range(len(bottom_10)), bottom_10[\"AIOE\"], color='coral')\naxes[1].set_yticks(range(len(bottom_10)))\naxes[1].set_yticklabels(bottom_10[\"Title\"], fontsize=9)\naxes[1].invert_yaxis()\naxes[1].set_xlabel(\"AIOE Score\")\naxes[1].set_title(\"AIOE 하위 10개 직업\")\naxes[1].grid(axis='x', alpha=0.3)\n\nplt.tight_layout()\nplt.show()",
   "metadata": {},
   "execution_count": null,
   "outputs": []
  },
  {
   "cell_type": "code",
   "execution_count": null,
   "metadata": {},
   "outputs": [],
   "source": [
    "# AIOE 하위 20개 직업\n",
    "print(\"=== AIOE 하위 20개 직업 ===\")\n",
    "bottom_20 = job_aioe_analysis.nsmallest(20, \"AIOE\")\n",
    "display(bottom_20[[\"soc_code_clean\", \"Title\", \"AIOE\", \"Mean_Wage\", \"Employment\"]])"
   ]
  },
  {
   "cell_type": "code",
   "execution_count": null,
   "metadata": {},
   "outputs": [],
   "source": "# 논문 결과와 비교\nprint(\"=== 논문의 Top 5 직업 ===\")\nprint(\"1. Telemarketers\")\nprint(\"2. English Language and Literature Teachers, Postsecondary\")\nprint(\"3. Foreign Language and Literature Teachers, Postsecondary\")\nprint(\"4. History Teachers, Postsecondary\")\nprint(\"5. Law Teachers, Postsecondary\")\n\nprint(\"\\n=== 우리 데이터의 Top 5 ===\")\nfor i, (idx, row) in enumerate(top_20.head(5).iterrows(), 1):\n    print(f\"{i}. {row['Title']} (AIOE: {row['AIOE']:.3f})\")"
  },
  {
   "cell_type": "markdown",
   "metadata": {},
   "source": [
    "## 16. 데이터 저장"
   ]
  },
  {
   "cell_type": "code",
   "execution_count": null,
   "metadata": {},
   "outputs": [],
   "source": [
    "# CSV 파일로 저장\n",
    "output_path = \"../datas/processed/job_aioe_processed.csv\"\n",
    "job_aioe_analysis.to_csv(output_path, index=False, encoding=\"utf-8\")\n",
    "\n",
    "print(f\"✅ 저장 완료: {output_path}\")\n",
    "print(f\"\\n저장된 데이터:\")\n",
    "print(f\"- 직업 수: {len(job_aioe_analysis):,}\")\n",
    "print(f\"- 컬럼 수: {len(job_aioe_analysis.columns)}\")\n",
    "print(f\"\\n컬럼 목록:\")\n",
    "print(job_aioe_analysis.columns.tolist())"
   ]
  }
 ],
 "metadata": {
  "kernelspec": {
   "display_name": "Python 3",
   "language": "python",
   "name": "python3"
  },
  "language_info": {
   "codemirror_mode": {
    "name": "ipython",
    "version": 3
   },
   "file_extension": ".py",
   "mimetype": "text/x-python",
   "name": "python",
   "nbconvert_exporter": "python",
   "pygments_lexer": "ipython3",
   "version": "3.8.0"
  }
 },
 "nbformat": 4,
 "nbformat_minor": 4
}